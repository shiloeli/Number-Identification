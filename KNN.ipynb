{
 "cells": [
  {
   "cell_type": "code",
   "execution_count": 54,
   "id": "6ccb4f05",
   "metadata": {},
   "outputs": [],
   "source": [
    "import struct \n",
    "import numpy as np\n",
    "from sklearn import neighbors, metrics\n",
    "import matplotlib.pyplot as plt\n",
    "%matplotlib inline"
   ]
  },
  {
   "cell_type": "code",
   "execution_count": 55,
   "id": "0c650f03",
   "metadata": {},
   "outputs": [],
   "source": [
    "def read_idx(file_name):\n",
    "    with open(file_name, 'rb') as f:\n",
    "        zero, data_type, dims = struct.unpack('>HBB', f.read(4))\n",
    "        shape = tuple(struct.unpack('>I', f.read(4))[0] for d in range(dims))\n",
    "        return np.fromstring(f.read(), dtype = np.uint8).reshape(shape)"
   ]
  },
  {
   "cell_type": "code",
   "execution_count": 56,
   "id": "b2a5a0a6",
   "metadata": {},
   "outputs": [],
   "source": [
    "from PIL import Image\n",
    "import numpy as np\n",
    "def check_data(img, label):\n",
    "    img = Image.fromarray(img)\n",
    "    img.show()\n",
    "    print(label)"
   ]
  },
  {
   "cell_type": "code",
   "execution_count": 57,
   "id": "5bc94edc",
   "metadata": {},
   "outputs": [],
   "source": [
    "def flat_matrix(matrix, rows_num, col_num):\n",
    "    return np.reshape(matrix, (rows_num, col_num))"
   ]
  },
  {
   "cell_type": "code",
   "execution_count": 58,
   "id": "04b64092",
   "metadata": {},
   "outputs": [
    {
     "name": "stderr",
     "output_type": "stream",
     "text": [
      "C:\\Users\\shilo\\AppData\\Local\\Temp\\ipykernel_8536\\132011618.py:5: DeprecationWarning: The binary mode of fromstring is deprecated, as it behaves surprisingly on unicode inputs. Use frombuffer instead\n",
      "  return np.fromstring(f.read(), dtype = np.uint8).reshape(shape)\n"
     ]
    }
   ],
   "source": [
    "train_data = flat_matrix(read_idx('train-images.idx3-ubyte'), 60000, 28*28)\n",
    "train_label = read_idx('train-labels.idx1-ubyte')\n",
    "test_data = flat_matrix(read_idx('t10k-images.idx3-ubyte'), 10000, 28*28)\n",
    "test_label = read_idx('t10k-labels.idx1-ubyte')"
   ]
  },
  {
   "cell_type": "code",
   "execution_count": 59,
   "id": "0aa15dbd",
   "metadata": {},
   "outputs": [
    {
     "name": "stdout",
     "output_type": "stream",
     "text": [
      "[[0 0 0 ... 0 0 0]\n",
      " [0 0 0 ... 0 0 0]\n",
      " [0 0 0 ... 0 0 0]\n",
      " ...\n",
      " [0 0 0 ... 0 0 0]\n",
      " [0 0 0 ... 0 0 0]\n",
      " [0 0 0 ... 0 0 0]]\n",
      "[5 0 4 ... 5 6 8]\n"
     ]
    }
   ],
   "source": [
    "#train_mask = ((train_label == 2) | (train_label == 3) | (train_label == 8))\n",
    "X = train_data\n",
    "Y = train_label\n",
    "print(X)\n",
    "print(Y)"
   ]
  },
  {
   "cell_type": "code",
   "execution_count": 60,
   "id": "a2e7a8ba",
   "metadata": {},
   "outputs": [
    {
     "name": "stdout",
     "output_type": "stream",
     "text": [
      "[[0 0 0 ... 0 0 0]\n",
      " [0 0 0 ... 0 0 0]\n",
      " [0 0 0 ... 0 0 0]\n",
      " ...\n",
      " [0 0 0 ... 0 0 0]\n",
      " [0 0 0 ... 0 0 0]\n",
      " [0 0 0 ... 0 0 0]]\n",
      "[7 2 1 ... 4 5 6]\n"
     ]
    }
   ],
   "source": [
    "#test_mask = ((test_label == 2) | (test_label == 3) | (test_label == 8))\n",
    "x_test = test_data\n",
    "y_true = test_label\n",
    "print(x_test)\n",
    "print(y_true)"
   ]
  },
  {
   "cell_type": "code",
   "execution_count": null,
   "id": "aaa0849f",
   "metadata": {},
   "outputs": [],
   "source": [
    "from sklearn.neighbors import KNeighborsClassifier\n",
    "from sklearn.metrics import confusion_matrix\n",
    "res = 0\n",
    "res_k = 0\n",
    "y_pred_res = y_true\n",
    "for k in range(1,20):\n",
    "    knn = KNeighborsClassifier(n_neighbors=k).fit(X, Y)\n",
    "    y_pred = knn.predict(x_test)\n",
    "    conf_matrix = confusion_matrix(y_true, y_pred)\n",
    "    tesmp_res = sum(conf_matrix[i][i] for i in range(len(conf_matrix)))\n",
    "    if tesmp_res > res:\n",
    "        res = tesmp_res\n",
    "        res_k = k\n",
    "        y_pred_res = y_pred\n"
   ]
  },
  {
   "cell_type": "code",
   "execution_count": null,
   "id": "3e4e710c",
   "metadata": {},
   "outputs": [],
   "source": [
    "from sklearn.metrics import plot_confusion_matrix\n",
    "from sklearn.metrics import classification_report\n",
    "print(res_k)\n",
    "knn = KNeighborsClassifier(n_neighbors=res_k).fit(X, Y)\n",
    "plot_confusion_matrix(knn, x_test, y_true) \n",
    "plt.show()\n",
    "print(classification_report(y_true, y_pred_res, labels=[i for i in range(10)]))"
   ]
  },
  {
   "cell_type": "code",
   "execution_count": null,
   "id": "d1c2c09e-373b-4002-9b7e-8e16b67c7edd",
   "metadata": {},
   "outputs": [],
   "source": []
  },
  {
   "cell_type": "code",
   "execution_count": null,
   "id": "be26175d-f323-4ffe-977b-2f7cc8a175db",
   "metadata": {},
   "outputs": [],
   "source": []
  },
  {
   "cell_type": "code",
   "execution_count": null,
   "id": "8b4977a9-410f-41fc-9e6e-5d34d762569a",
   "metadata": {},
   "outputs": [],
   "source": []
  }
 ],
 "metadata": {
  "kernelspec": {
   "display_name": "Python 3 (ipykernel)",
   "language": "python",
   "name": "python3"
  },
  "language_info": {
   "codemirror_mode": {
    "name": "ipython",
    "version": 3
   },
   "file_extension": ".py",
   "mimetype": "text/x-python",
   "name": "python",
   "nbconvert_exporter": "python",
   "pygments_lexer": "ipython3",
   "version": "3.9.12"
  }
 },
 "nbformat": 4,
 "nbformat_minor": 5
}
