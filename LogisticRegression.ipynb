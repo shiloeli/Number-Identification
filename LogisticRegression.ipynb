{
 "cells": [
  {
   "cell_type": "code",
   "execution_count": 15,
   "id": "dfd90125",
   "metadata": {},
   "outputs": [],
   "source": [
    "import struct \n",
    "import numpy as np\n",
    "from sklearn import neighbors, metrics\n",
    "import matplotlib.pyplot as plt\n",
    "%matplotlib inline"
   ]
  },
  {
   "cell_type": "code",
   "execution_count": 16,
   "id": "c0845605",
   "metadata": {},
   "outputs": [],
   "source": [
    "def read_idx(file_name):\n",
    "    with open(file_name, 'rb') as f:\n",
    "        zero, data_type, dims = struct.unpack('>HBB', f.read(4))\n",
    "        shape = tuple(struct.unpack('>I', f.read(4))[0] for d in range(dims))\n",
    "        return np.fromstring(f.read(), dtype = np.uint8).reshape(shape)"
   ]
  },
  {
   "cell_type": "code",
   "execution_count": 17,
   "id": "a995d472",
   "metadata": {},
   "outputs": [],
   "source": [
    "from PIL import Image\n",
    "import numpy as np\n",
    "def check_data(img, label):\n",
    "    img = Image.fromarray(img)\n",
    "    img.show()\n",
    "    print(label)"
   ]
  },
  {
   "cell_type": "code",
   "execution_count": 18,
   "id": "f565f160",
   "metadata": {},
   "outputs": [],
   "source": [
    "def flat_matrix(matrix, rows_num, col_num):\n",
    "    return np.reshape(matrix, (rows_num, col_num))"
   ]
  },
  {
   "cell_type": "code",
   "execution_count": 19,
   "id": "538f9e36",
   "metadata": {},
   "outputs": [
    {
     "name": "stderr",
     "output_type": "stream",
     "text": [
      "C:\\Users\\shilo\\AppData\\Local\\Temp\\ipykernel_26240\\132011618.py:5: DeprecationWarning: The binary mode of fromstring is deprecated, as it behaves surprisingly on unicode inputs. Use frombuffer instead\n",
      "  return np.fromstring(f.read(), dtype = np.uint8).reshape(shape)\n"
     ]
    }
   ],
   "source": [
    "train_data = flat_matrix(read_idx('train-images.idx3-ubyte'), 60000, 28*28)\n",
    "train_label = read_idx('train-labels.idx1-ubyte')\n",
    "test_data = flat_matrix(read_idx('t10k-images.idx3-ubyte'), 10000, 28*28)\n",
    "test_label = read_idx('t10k-labels.idx1-ubyte')"
   ]
  },
  {
   "cell_type": "code",
   "execution_count": 20,
   "id": "4bd75c39",
   "metadata": {},
   "outputs": [],
   "source": [
    "#train_mask = ((train_label == 2) | (train_label == 3) | (train_label == 8))\n",
    "X = train_data/255.0\n",
    "Y = train_label"
   ]
  },
  {
   "cell_type": "code",
   "execution_count": 21,
   "id": "ae2b00e9",
   "metadata": {},
   "outputs": [],
   "source": [
    "#test_mask = ((test_label == 2) | (test_label == 3) | (test_label == 8))\n",
    "x_test = test_data/255.0\n",
    "y_true = test_label\n"
   ]
  },
  {
   "cell_type": "code",
   "execution_count": 22,
   "id": "f74d75b8",
   "metadata": {},
   "outputs": [
    {
     "name": "stdout",
     "output_type": "stream",
     "text": [
      "[[0. 0. 0. ... 0. 0. 0.]\n",
      " [0. 0. 0. ... 0. 0. 0.]\n",
      " [0. 0. 0. ... 0. 0. 0.]\n",
      " ...\n",
      " [0. 0. 0. ... 0. 0. 0.]\n",
      " [0. 0. 0. ... 0. 0. 0.]\n",
      " [0. 0. 0. ... 0. 0. 0.]]\n",
      "[5 0 4 ... 5 6 8]\n"
     ]
    },
    {
     "name": "stderr",
     "output_type": "stream",
     "text": [
      "D:\\ANAONA\\lib\\site-packages\\sklearn\\linear_model\\_logistic.py:814: ConvergenceWarning: lbfgs failed to converge (status=1):\n",
      "STOP: TOTAL NO. of ITERATIONS REACHED LIMIT.\n",
      "\n",
      "Increase the number of iterations (max_iter) or scale the data as shown in:\n",
      "    https://scikit-learn.org/stable/modules/preprocessing.html\n",
      "Please also refer to the documentation for alternative solver options:\n",
      "    https://scikit-learn.org/stable/modules/linear_model.html#logistic-regression\n",
      "  n_iter_i = _check_optimize_result(\n"
     ]
    }
   ],
   "source": [
    "from sklearn.linear_model import LogisticRegression\n",
    "print(X)\n",
    "print(Y)\n",
    "clf = LogisticRegression(solver='lbfgs', multi_class='multinomial').fit(X, Y)\n"
   ]
  },
  {
   "cell_type": "code",
   "execution_count": 25,
   "id": "abd4721d",
   "metadata": {},
   "outputs": [
    {
     "name": "stderr",
     "output_type": "stream",
     "text": [
      "D:\\ANAONA\\lib\\site-packages\\sklearn\\utils\\deprecation.py:87: FutureWarning: Function plot_confusion_matrix is deprecated; Function `plot_confusion_matrix` is deprecated in 1.0 and will be removed in 1.2. Use one of the class methods: ConfusionMatrixDisplay.from_predictions or ConfusionMatrixDisplay.from_estimator.\n",
      "  warnings.warn(msg, category=FutureWarning)\n"
     ]
    },
    {
     "data": {
      "image/png": "[encoded data removed]",
      "text/plain": [
       "<Figure size 432x288 with 2 Axes>"
      ]
     },
     "metadata": {
      "needs_background": "light"
     },
     "output_type": "display_data"
    }
   ],
   "source": [
    "from sklearn.metrics import plot_confusion_matrix\n",
    "from sklearn.metrics import classification_report\n",
    "plot_confusion_matrix(clf, x_test, y_true, colorbar=True, cmap='Blues') \n",
    "plt.title('Logistic Regression') \n",
    "\n",
    "plt.show()"
   ]
  },
  {
   "cell_type": "code",
   "execution_count": 24,
   "id": "af570fd8",
   "metadata": {},
   "outputs": [
    {
     "name": "stdout",
     "output_type": "stream",
     "text": [
      "              precision    recall  f1-score   support\n",
      "\n",
      "           0       0.95      0.98      0.96       980\n",
      "           1       0.96      0.98      0.97      1135\n",
      "           2       0.93      0.90      0.91      1032\n",
      "           3       0.90      0.91      0.91      1010\n",
      "           4       0.94      0.93      0.93       982\n",
      "           5       0.91      0.88      0.89       892\n",
      "           6       0.94      0.95      0.94       958\n",
      "           7       0.94      0.92      0.93      1028\n",
      "           8       0.87      0.88      0.88       974\n",
      "           9       0.91      0.92      0.92      1009\n",
      "\n",
      "    accuracy                           0.93     10000\n",
      "   macro avg       0.92      0.92      0.92     10000\n",
      "weighted avg       0.93      0.93      0.93     10000\n",
      "\n"
     ]
    }
   ],
   "source": [
    "y_pred_res = clf.predict(x_test)\n",
    "print(classification_report(y_true, y_pred_res, labels=[i for i in range(10)]))"
   ]
  },
  {
   "cell_type": "code",
   "execution_count": null,
   "id": "eb5545a0",
   "metadata": {},
   "outputs": [],
   "source": []
  }
 ],
 "metadata": {
  "kernelspec": {
   "display_name": "Python 3 (ipykernel)",
   "language": "python",
   "name": "python3"
  },
  "language_info": {
   "codemirror_mode": {
    "name": "ipython",
    "version": 3
   },
   "file_extension": ".py",
   "mimetype": "text/x-python",
   "name": "python",
   "nbconvert_exporter": "python",
   "pygments_lexer": "ipython3",
   "version": "3.9.12"
  }
 },
 "nbformat": 4,
 "nbformat_minor": 5
}
