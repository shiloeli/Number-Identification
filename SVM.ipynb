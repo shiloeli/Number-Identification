{
 "cells": [
  {
   "cell_type": "code",
   "execution_count": 1,
   "id": "7eb476f1",
   "metadata": {},
   "outputs": [],
   "source": [
    "import struct \n",
    "import numpy as np\n",
    "from sklearn import metrics\n",
    "import matplotlib.pyplot as plt\n",
    "%matplotlib inline"
   ]
  },
  {
   "cell_type": "code",
   "execution_count": 2,
   "id": "c3ed8f7d",
   "metadata": {},
   "outputs": [],
   "source": [
    "def read_idx(file_name):\n",
    "    with open(file_name, 'rb') as f:\n",
    "        zero, data_type, dims = struct.unpack('>HBB', f.read(4))\n",
    "        shape = tuple(struct.unpack('>I', f.read(4))[0] for d in range(dims))\n",
    "        return np.fromstring(f.read(), dtype = np.uint8).reshape(shape)"
   ]
  },
  {
   "cell_type": "code",
   "execution_count": 3,
   "id": "655a7e2d",
   "metadata": {},
   "outputs": [],
   "source": [
    "def flat_matrix(matrix, rows_num, col_num):\n",
    "    return np.reshape(matrix, (rows_num, col_num))"
   ]
  },
  {
   "cell_type": "code",
   "execution_count": 4,
   "id": "ce0c5b47",
   "metadata": {},
   "outputs": [
    {
     "name": "stderr",
     "output_type": "stream",
     "text": [
      "C:\\Users\\I563567\\AppData\\Local\\Temp\\ipykernel_27728\\132011618.py:5: DeprecationWarning: The binary mode of fromstring is deprecated, as it behaves surprisingly on unicode inputs. Use frombuffer instead\n",
      "  return np.fromstring(f.read(), dtype = np.uint8).reshape(shape)\n"
     ]
    }
   ],
   "source": [
    "train_data = flat_matrix(read_idx('train-images.idx3-ubyte'), 60000, 28*28)\n",
    "train_label = read_idx('train-labels.idx1-ubyte')\n",
    "test_data = flat_matrix(read_idx('t10k-images.idx3-ubyte'), 10000, 28*28)\n",
    "test_label = read_idx('t10k-labels.idx1-ubyte')"
   ]
  },
  {
   "cell_type": "code",
   "execution_count": 5,
   "id": "d1840e48",
   "metadata": {},
   "outputs": [],
   "source": [
    "#train_mask = ((train_label == 2) | (train_label == 3) | (train_label == 8))\n",
    "X = train_data/255.0\n",
    "Y = train_label"
   ]
  },
  {
   "cell_type": "code",
   "execution_count": 6,
   "id": "d84fe1e6",
   "metadata": {},
   "outputs": [],
   "source": [
    "#test_mask = ((test_label == 2) | (test_label == 3) | (test_label == 8))\n",
    "x_test = test_data/255.0\n",
    "y_true = test_label\n"
   ]
  },
  {
   "cell_type": "code",
   "execution_count": 7,
   "id": "b3cbf551",
   "metadata": {},
   "outputs": [],
   "source": [
    "from sklearn.metrics import plot_confusion_matrix\n",
    "from sklearn.metrics import classification_report\n",
    "from sklearn import svm\n",
    "from sklearn.metrics import confusion_matrix\n",
    "svc = svm.SVC(C = 5 , gamma = 0.05).fit(X, Y)\n"
   ]
  },
  {
   "cell_type": "code",
   "execution_count": 9,
   "id": "309e7380",
   "metadata": {},
   "outputs": [
    {
     "name": "stderr",
     "output_type": "stream",
     "text": [
      "C:\\Users\\I563567\\Anaconda3\\lib\\site-packages\\sklearn\\utils\\deprecation.py:87: FutureWarning: Function plot_confusion_matrix is deprecated; Function `plot_confusion_matrix` is deprecated in 1.0 and will be removed in 1.2. Use one of the class methods: ConfusionMatrixDisplay.from_predictions or ConfusionMatrixDisplay.from_estimator.\n",
      "  warnings.warn(msg, category=FutureWarning)\n"
     ]
    },
    {
     "data": {
      "image/png": "[encoded data removed]",
      "text/plain": [
       "<Figure size 432x288 with 2 Axes>"
      ]
     },
     "metadata": {
      "needs_background": "light"
     },
     "output_type": "display_data"
    }
   ],
   "source": [
    "plot_confusion_matrix(svc, x_test, y_true) \n",
    "plt.show()"
   ]
  },
  {
   "cell_type": "code",
   "execution_count": 10,
   "id": "cd780e80",
   "metadata": {},
   "outputs": [
    {
     "name": "stdout",
     "output_type": "stream",
     "text": [
      "              precision    recall  f1-score   support\n",
      "\n",
      "           0       0.99      0.99      0.99       980\n",
      "           1       0.99      0.99      0.99      1135\n",
      "           2       0.98      0.98      0.98      1032\n",
      "           3       0.98      0.99      0.98      1010\n",
      "           4       0.98      0.98      0.98       982\n",
      "           5       0.99      0.98      0.98       892\n",
      "           6       0.99      0.99      0.99       958\n",
      "           7       0.98      0.98      0.98      1028\n",
      "           8       0.97      0.99      0.98       974\n",
      "           9       0.98      0.96      0.97      1009\n",
      "\n",
      "    accuracy                           0.98     10000\n",
      "   macro avg       0.98      0.98      0.98     10000\n",
      "weighted avg       0.98      0.98      0.98     10000\n",
      "\n"
     ]
    }
   ],
   "source": [
    "y_pred_res = svc.predict(x_test)\n",
    "print(classification_report(y_true, y_pred_res, labels=[i for i in range(10)]))"
   ]
  },
  {
   "cell_type": "code",
   "execution_count": null,
   "id": "0820803d",
   "metadata": {},
   "outputs": [],
   "source": []
  }
 ],
 "metadata": {
  "kernelspec": {
   "display_name": "Python 3 (ipykernel)",
   "language": "python",
   "name": "python3"
  },
  "language_info": {
   "codemirror_mode": {
    "name": "ipython",
    "version": 3
   },
   "file_extension": ".py",
   "mimetype": "text/x-python",
   "name": "python",
   "nbconvert_exporter": "python",
   "pygments_lexer": "ipython3",
   "version": "3.9.12"
  }
 },
 "nbformat": 4,
 "nbformat_minor": 5
}
